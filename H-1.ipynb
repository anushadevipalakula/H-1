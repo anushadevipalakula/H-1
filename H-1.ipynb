{
 "cells": [
  {
   "cell_type": "code",
   "execution_count": 3,
   "id": "53249a75-2c8b-497a-9a85-2d574be1e3a2",
   "metadata": {},
   "outputs": [
    {
     "name": "stdout",
     "output_type": "stream",
     "text": [
      "\n",
      "Options:\n",
      "1. View Products\n",
      "2. View Product in AR\n",
      "3. Add Product to Cart\n",
      "4. View Cart\n",
      "5. List Valid Product IDs\n",
      "6. Exit\n"
     ]
    },
    {
     "name": "stdin",
     "output_type": "stream",
     "text": [
      "Enter your choice:  1\n"
     ]
    },
    {
     "name": "stdout",
     "output_type": "stream",
     "text": [
      "\n",
      "Available Products:\n",
      "1: Product 1 - Image URL: anu pic.jpg\n",
      "2: Product 2 - Image URL: photo.jpg\n",
      "\n",
      "Options:\n",
      "1. View Products\n",
      "2. View Product in AR\n",
      "3. Add Product to Cart\n",
      "4. View Cart\n",
      "5. List Valid Product IDs\n",
      "6. Exit\n"
     ]
    },
    {
     "name": "stdin",
     "output_type": "stream",
     "text": [
      "Enter your choice:  2\n"
     ]
    },
    {
     "name": "stdout",
     "output_type": "stream",
     "text": [
      "\n",
      "Valid Product IDs:\n",
      "ID 1: Product 1\n",
      "ID 2: Product 2\n"
     ]
    },
    {
     "name": "stdin",
     "output_type": "stream",
     "text": [
      "Enter product ID to view in AR:  1\n"
     ]
    },
    {
     "name": "stdout",
     "output_type": "stream",
     "text": [
      "\n",
      "Viewing Product 1 in AR using model at models/product1.gltf\n",
      "Product Image URL: anu pic.jpg\n",
      "\n",
      "Options:\n",
      "1. View Products\n",
      "2. View Product in AR\n",
      "3. Add Product to Cart\n",
      "4. View Cart\n",
      "5. List Valid Product IDs\n",
      "6. Exit\n"
     ]
    },
    {
     "name": "stdin",
     "output_type": "stream",
     "text": [
      "Enter your choice:  3\n"
     ]
    },
    {
     "name": "stdout",
     "output_type": "stream",
     "text": [
      "\n",
      "Valid Product IDs:\n",
      "ID 1: Product 1\n",
      "ID 2: Product 2\n"
     ]
    },
    {
     "name": "stdin",
     "output_type": "stream",
     "text": [
      "Enter product ID to add to cart:  1\n"
     ]
    },
    {
     "name": "stdout",
     "output_type": "stream",
     "text": [
      "Product 1 added to cart!\n",
      "\n",
      "Options:\n",
      "1. View Products\n",
      "2. View Product in AR\n",
      "3. Add Product to Cart\n",
      "4. View Cart\n",
      "5. List Valid Product IDs\n",
      "6. Exit\n"
     ]
    },
    {
     "name": "stdin",
     "output_type": "stream",
     "text": [
      "Enter your choice:  4\n"
     ]
    },
    {
     "name": "stdout",
     "output_type": "stream",
     "text": [
      "\n",
      "Cart Contents:\n",
      "- Product 1\n",
      "\n",
      "Options:\n",
      "1. View Products\n",
      "2. View Product in AR\n",
      "3. Add Product to Cart\n",
      "4. View Cart\n",
      "5. List Valid Product IDs\n",
      "6. Exit\n"
     ]
    },
    {
     "name": "stdin",
     "output_type": "stream",
     "text": [
      "Enter your choice:  5\n"
     ]
    },
    {
     "name": "stdout",
     "output_type": "stream",
     "text": [
      "\n",
      "Valid Product IDs:\n",
      "ID 1: Product 1\n",
      "ID 2: Product 2\n",
      "\n",
      "Options:\n",
      "1. View Products\n",
      "2. View Product in AR\n",
      "3. Add Product to Cart\n",
      "4. View Cart\n",
      "5. List Valid Product IDs\n",
      "6. Exit\n"
     ]
    },
    {
     "name": "stdin",
     "output_type": "stream",
     "text": [
      "Enter your choice:  1\n"
     ]
    },
    {
     "name": "stdout",
     "output_type": "stream",
     "text": [
      "\n",
      "Available Products:\n",
      "1: Product 1 - Image URL: anu pic.jpg\n",
      "2: Product 2 - Image URL: photo.jpg\n",
      "\n",
      "Options:\n",
      "1. View Products\n",
      "2. View Product in AR\n",
      "3. Add Product to Cart\n",
      "4. View Cart\n",
      "5. List Valid Product IDs\n",
      "6. Exit\n"
     ]
    },
    {
     "name": "stdin",
     "output_type": "stream",
     "text": [
      "Enter your choice:  6\n"
     ]
    },
    {
     "name": "stdout",
     "output_type": "stream",
     "text": [
      "Exiting...\n"
     ]
    }
   ],
   "source": [
    "# ecommerce.py\n",
    "\n",
    "# Sample data for products\n",
    "products = {\n",
    "    '1': {'name': 'Product 1', 'image': 'anu pic.jpg', 'model': 'models/product1.gltf'},\n",
    "    '2': {'name': 'Product 2', 'image': 'photo.jpg', 'model': 'models/product2.gltf'}\n",
    "}\n",
    "\n",
    "# Cart to store items\n",
    "cart = []\n",
    "\n",
    "def display_products():\n",
    "    print(\"\\nAvailable Products:\")\n",
    "    for key, product in products.items():\n",
    "        print(f\"{key}: {product['name']} - Image URL: {product['image']}\")\n",
    "\n",
    "def list_valid_ids():\n",
    "    print(\"\\nValid Product IDs:\")\n",
    "    for key in products.keys():\n",
    "        print(f\"ID {key}: {products[key]['name']}\")\n",
    "\n",
    "def view_in_ar(product_id):\n",
    "    if product_id in products:\n",
    "        product = products[product_id]\n",
    "        print(f\"\\nViewing {product['name']} in AR using model at {product['model']}\")\n",
    "        print(f\"Product Image URL: {product['image']}\")\n",
    "    else:\n",
    "        print(\"Invalid product ID. Please use a valid ID.\")\n",
    "\n",
    "def add_to_cart(product_id):\n",
    "    if product_id in products:\n",
    "        cart.append(products[product_id]['name'])\n",
    "        print(f\"{products[product_id]['name']} added to cart!\")\n",
    "    else:\n",
    "        print(\"Invalid product ID. Please use a valid ID.\")\n",
    "\n",
    "def view_cart():\n",
    "    if cart:\n",
    "        print(\"\\nCart Contents:\")\n",
    "        for item in cart:\n",
    "            print(f\"- {item}\")\n",
    "    else:\n",
    "        print(\"Cart is empty\")\n",
    "\n",
    "def main():\n",
    "    while True:\n",
    "        print(\"\\nOptions:\")\n",
    "        print(\"1. View Products\")\n",
    "        print(\"2. View Product in AR\")\n",
    "        print(\"3. Add Product to Cart\")\n",
    "        print(\"4. View Cart\")\n",
    "        print(\"5. List Valid Product IDs\")\n",
    "        print(\"6. Exit\")\n",
    "        \n",
    "        choice = input(\"Enter your choice: \").strip().lower()\n",
    "        \n",
    "        if choice in ['1', 'view products']:\n",
    "            display_products()\n",
    "        elif choice in ['2', 'view product in ar']:\n",
    "            list_valid_ids()  # List valid IDs before asking for input\n",
    "            product_id = input(\"Enter product ID to view in AR: \").strip()\n",
    "            view_in_ar(product_id)\n",
    "        elif choice in ['3', 'add product to cart']:\n",
    "            list_valid_ids()  # List valid IDs before asking for input\n",
    "            product_id = input(\"Enter product ID to add to cart: \").strip()\n",
    "            add_to_cart(product_id)\n",
    "        elif choice in ['4', 'view cart']:\n",
    "            view_cart()\n",
    "        elif choice in ['5', 'list valid product ids']:\n",
    "            list_valid_ids()\n",
    "        elif choice in ['6', 'exit']:\n",
    "            print(\"Exiting...\")\n",
    "            break\n",
    "        else:\n",
    "            print(\"Invalid choice, please try again.\")\n",
    "\n",
    "if __name__ == \"__main__\":\n",
    "    main()\n"
   ]
  },
  {
   "cell_type": "code",
   "execution_count": null,
   "id": "600ce5d6-74ff-4719-a149-eb0c6d6232d5",
   "metadata": {},
   "outputs": [
    {
     "name": "stdout",
     "output_type": "stream",
     "text": [
      "\n",
      "Options:\n",
      "1. View Products\n",
      "2. View Product in AR\n",
      "3. Add Product to Cart\n",
      "4. View Cart\n",
      "5. List Valid Product IDs\n",
      "6. Exit\n"
     ]
    }
   ],
   "source": [
    "import os\n",
    "\n",
    "# Sample data for products\n",
    "products = {\n",
    "    '1': {'name': 'Product 1', 'image': 'Paige-Sofa.jpg', 'model': 'models/product1.gltf'},\n",
    "    '2': {'name': 'Product 2', 'image': 'Television.jpg', 'model': 'models/product2.gltf'}\n",
    "}\n",
    "\n",
    "# Cart to store items\n",
    "cart = []\n",
    "\n",
    "def display_products():\n",
    "    print(\"\\nAvailable Products:\")\n",
    "    for key, product in products.items():\n",
    "        # Correctly use the 'name' and 'image' keys\n",
    "        print(f\"{key}: {product['name']} - Image URL: {product['image']}\")\n",
    "\n",
    "def list_valid_ids():\n",
    "    print(\"\\nValid Product IDs:\")\n",
    "    for key in products.keys():\n",
    "        print(f\"ID {key}: {products[key]['name']}\")\n",
    "\n",
    "def view_in_ar(product_id):\n",
    "    if product_id in products:\n",
    "        product = products[product_id]\n",
    "        print(f\"\\nViewing {product['name']} in AR using model at {product['model']}\")\n",
    "        print(f\"Product Image URL: {product['image']}\")\n",
    "        # Show the absolute path of the image file\n",
    "        print(\"\\nTo view the image, open the following URL in your browser or file explorer:\")\n",
    "        print(f\"file://{os.path.abspath(product['image'])}\")\n",
    "    else:\n",
    "        print(\"Invalid product ID. Please use a valid ID.\")\n",
    "\n",
    "def add_to_cart(product_id):\n",
    "    if product_id in products:\n",
    "        cart.append(products[product_id]['name'])\n",
    "        print(f\"{products[product_id]['name']} added to cart!\")\n",
    "    else:\n",
    "        print(\"Invalid product ID. Please use a valid ID.\")\n",
    "\n",
    "def view_cart():\n",
    "    if cart:\n",
    "        print(\"\\nCart Contents:\")\n",
    "        for item in cart:\n",
    "            print(f\"- {item}\")\n",
    "    else:\n",
    "        print(\"Cart is empty\")\n",
    "\n",
    "def main():\n",
    "    while True:\n",
    "        print(\"\\nOptions:\")\n",
    "        print(\"1. View Products\")\n",
    "        print(\"2. View Product in AR\")\n",
    "        print(\"3. Add Product to Cart\")\n",
    "        print(\"4. View Cart\")\n",
    "        print(\"5. List Valid Product IDs\")\n",
    "        print(\"6. Exit\")\n",
    "        \n",
    "        choice = input(\"Enter your choice: \").strip().lower()\n",
    "        \n",
    "        if choice in ['1', 'view products']:\n",
    "            display_products()\n",
    "        elif choice in ['2', 'view product in ar']:\n",
    "            list_valid_ids()  # List valid IDs before asking for input\n",
    "            product_id = input(\"Enter product ID to view in AR: \").strip()\n",
    "            view_in_ar(product_id)\n",
    "        elif choice in ['3', 'add product to cart']:\n",
    "            list_valid_ids()  # List valid IDs before asking for input\n",
    "            product_id = input(\"Enter product ID to add to cart: \").strip()\n",
    "            add_to_cart(product_id)\n",
    "        elif choice in ['4', 'view cart']:\n",
    "            view_cart()\n",
    "        elif choice in ['5', 'list valid product ids']:\n",
    "            list_valid_ids()\n",
    "        elif choice in ['6', 'exit']:\n",
    "            print(\"Exiting...\")\n",
    "            break\n",
    "        else:\n",
    "            print(\"Invalid choice, please try again.\")\n",
    "\n",
    "if __name__ == \"__main__\":\n",
    "    main()\n"
   ]
  },
  {
   "cell_type": "code",
   "execution_count": null,
   "id": "1b504e63-b7d0-47d4-9550-b8cf25da2620",
   "metadata": {},
   "outputs": [
    {
     "name": "stdout",
     "output_type": "stream",
     "text": [
      "\n",
      "Options:\n",
      "1. View Products\n",
      "2. View Product in AR\n",
      "3. Add Product to Cart\n",
      "4. View Cart\n",
      "5. List Valid Product IDs\n",
      "6. Exit\n"
     ]
    },
    {
     "name": "stdin",
     "output_type": "stream",
     "text": [
      "Enter your choice:  1\n"
     ]
    },
    {
     "name": "stdout",
     "output_type": "stream",
     "text": [
      "\n",
      "Available Products:\n",
      "1: Product 1 - Image URL: Paige-Sofa.jpg\n",
      "2: Product 2 - Image URL: Television.jpg\n",
      "\n",
      "Options:\n",
      "1. View Products\n",
      "2. View Product in AR\n",
      "3. Add Product to Cart\n",
      "4. View Cart\n",
      "5. List Valid Product IDs\n",
      "6. Exit\n"
     ]
    },
    {
     "name": "stdin",
     "output_type": "stream",
     "text": [
      "Enter your choice:  2\n"
     ]
    },
    {
     "name": "stdout",
     "output_type": "stream",
     "text": [
      "\n",
      "Valid Product IDs:\n",
      "ID 1: Product 1\n",
      "ID 2: Product 2\n"
     ]
    },
    {
     "name": "stdin",
     "output_type": "stream",
     "text": [
      "Enter product ID to view in AR:  1\n"
     ]
    },
    {
     "name": "stdout",
     "output_type": "stream",
     "text": [
      "\n",
      "Viewing Product 1 in AR using model at models/product1.gltf\n",
      "Product Image URL: Paige-Sofa.jpg\n",
      "\n",
      "To view the image, open the following URL in your browser or file explorer:\n",
      "file://D:\\H-1\\Paige-Sofa.jpg\n",
      "\n",
      "Options:\n",
      "1. View Products\n",
      "2. View Product in AR\n",
      "3. Add Product to Cart\n",
      "4. View Cart\n",
      "5. List Valid Product IDs\n",
      "6. Exit\n"
     ]
    },
    {
     "name": "stdin",
     "output_type": "stream",
     "text": [
      "Enter your choice:  2\n"
     ]
    },
    {
     "name": "stdout",
     "output_type": "stream",
     "text": [
      "\n",
      "Valid Product IDs:\n",
      "ID 1: Product 1\n",
      "ID 2: Product 2\n"
     ]
    },
    {
     "name": "stdin",
     "output_type": "stream",
     "text": [
      "Enter product ID to view in AR:  2\n"
     ]
    },
    {
     "name": "stdout",
     "output_type": "stream",
     "text": [
      "\n",
      "Viewing Product 2 in AR using model at models/product2.gltf\n",
      "Product Image URL: Television.jpg\n",
      "\n",
      "To view the image, open the following URL in your browser or file explorer:\n",
      "file://D:\\H-1\\Television.jpg\n",
      "\n",
      "Options:\n",
      "1. View Products\n",
      "2. View Product in AR\n",
      "3. Add Product to Cart\n",
      "4. View Cart\n",
      "5. List Valid Product IDs\n",
      "6. Exit\n"
     ]
    },
    {
     "name": "stdin",
     "output_type": "stream",
     "text": [
      "Enter your choice:  3\n"
     ]
    },
    {
     "name": "stdout",
     "output_type": "stream",
     "text": [
      "\n",
      "Valid Product IDs:\n",
      "ID 1: Product 1\n",
      "ID 2: Product 2\n"
     ]
    },
    {
     "name": "stdin",
     "output_type": "stream",
     "text": [
      "Enter product ID to add to cart:  1\n"
     ]
    },
    {
     "name": "stdout",
     "output_type": "stream",
     "text": [
      "Product 1 added to cart!\n",
      "\n",
      "Options:\n",
      "1. View Products\n",
      "2. View Product in AR\n",
      "3. Add Product to Cart\n",
      "4. View Cart\n",
      "5. List Valid Product IDs\n",
      "6. Exit\n"
     ]
    }
   ],
   "source": [
    "import os\n",
    "\n",
    "# Sample data for products\n",
    "products = {\n",
    "    '1': {'name': 'Product 1', 'image': 'Paige-Sofa.jpg', 'model': 'models/product1.gltf'},\n",
    "    '2': {'name': 'Product 2', 'image': 'Television.jpg', 'model': 'models/product2.gltf'}\n",
    "}\n",
    "\n",
    "# Cart to store items\n",
    "cart = []\n",
    "\n",
    "def display_products():\n",
    "    print(\"\\nAvailable Products:\")\n",
    "    for key, product in products.items():\n",
    "        # Correctly use the 'name' and 'image' keys\n",
    "        print(f\"{key}: {product['name']} - Image URL: {product['image']}\")\n",
    "\n",
    "def list_valid_ids():\n",
    "    print(\"\\nValid Product IDs:\")\n",
    "    for key in products.keys():\n",
    "        print(f\"ID {key}: {products[key]['name']}\")\n",
    "\n",
    "def view_in_ar(product_id):\n",
    "    if product_id in products:\n",
    "        product = products[product_id]\n",
    "        print(f\"\\nViewing {product['name']} in AR using model at {product['model']}\")\n",
    "        print(f\"Product Image URL: {product['image']}\")\n",
    "        # Show the absolute path of the image file\n",
    "        print(\"\\nTo view the image, open the following URL in your browser or file explorer:\")\n",
    "        print(f\"file://{os.path.abspath(product['image'])}\")\n",
    "    else:\n",
    "        print(\"Invalid product ID. Please use a valid ID.\")\n",
    "\n",
    "def add_to_cart(product_id):\n",
    "    if product_id in products:\n",
    "        cart.append(products[product_id]['name'])\n",
    "        print(f\"{products[product_id]['name']} added to cart!\")\n",
    "    else:\n",
    "        print(\"Invalid product ID. Please use a valid ID.\")\n",
    "\n",
    "def view_cart():\n",
    "    if cart:\n",
    "        print(\"\\nCart Contents:\")\n",
    "        for item in cart:\n",
    "            print(f\"- {item}\")\n",
    "    else:\n",
    "        print(\"Cart is empty\")\n",
    "\n",
    "def main():\n",
    "    while True:\n",
    "        print(\"\\nOptions:\")\n",
    "        print(\"1. View Products\")\n",
    "        print(\"2. View Product in AR\")\n",
    "        print(\"3. Add Product to Cart\")\n",
    "        print(\"4. View Cart\")\n",
    "        print(\"5. List Valid Product IDs\")\n",
    "        print(\"6. Exit\")\n",
    "        \n",
    "        choice = input(\"Enter your choice: \").strip().lower()\n",
    "        \n",
    "        if choice in ['1', 'view products']:\n",
    "            display_products()\n",
    "        elif choice in ['2', 'view product in ar']:\n",
    "            list_valid_ids()  # List valid IDs before asking for input\n",
    "            product_id = input(\"Enter product ID to view in AR: \").strip()\n",
    "            view_in_ar(product_id)\n",
    "        elif choice in ['3', 'add product to cart']:\n",
    "            list_valid_ids()  # List valid IDs before asking for input\n",
    "            product_id = input(\"Enter product ID to add to cart: \").strip()\n",
    "            add_to_cart(product_id)\n",
    "        elif choice in ['4', 'view cart']:\n",
    "            view_cart()\n",
    "        elif choice in ['5', 'list valid product ids']:\n",
    "            list_valid_ids()\n",
    "        elif choice in ['6', 'exit']:\n",
    "            print(\"Exiting...\")\n",
    "            break\n",
    "        else:\n",
    "            print(\"Invalid choice, please try again.\")\n",
    "\n",
    "if __name__ == \"__main__\":\n",
    "    main()\n"
   ]
  },
  {
   "cell_type": "code",
   "execution_count": null,
   "id": "26173a71-e56e-4efb-ad7a-431fa7cfa507",
   "metadata": {},
   "outputs": [],
   "source": []
  }
 ],
 "metadata": {
  "kernelspec": {
   "display_name": "Python 3 (ipykernel)",
   "language": "python",
   "name": "python3"
  },
  "language_info": {
   "codemirror_mode": {
    "name": "ipython",
    "version": 3
   },
   "file_extension": ".py",
   "mimetype": "text/x-python",
   "name": "python",
   "nbconvert_exporter": "python",
   "pygments_lexer": "ipython3",
   "version": "3.12.4"
  }
 },
 "nbformat": 4,
 "nbformat_minor": 5
}
